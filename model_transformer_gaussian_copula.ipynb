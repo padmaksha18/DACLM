{
  "cells": [
    {
      "cell_type": "code",
      "execution_count": 1,
      "metadata": {
        "colab": {
          "base_uri": "https://localhost:8080/"
        },
        "id": "U1KHViH_yXF0",
        "outputId": "b9a2943a-c96f-428c-8aaf-60bed4de16c8"
      },
      "outputs": [
        {
          "output_type": "stream",
          "name": "stdout",
          "text": [
            "Mounted at /content/gdrive\n"
          ]
        }
      ],
      "source": [
        "from google.colab import drive\n",
        "#drive.flush_and_unmount()\n",
        "drive.mount('/content/gdrive')"
      ]
    },
    {
      "cell_type": "code",
      "execution_count": 2,
      "metadata": {
        "colab": {
          "base_uri": "https://localhost:8080/"
        },
        "id": "ZaDiTSo4ygHw",
        "outputId": "37968687-c4d8-4e69-ee10-e24999ada378"
      },
      "outputs": [
        {
          "output_type": "stream",
          "name": "stdout",
          "text": [
            "/content/gdrive/MyDrive/ROBUST_TIME SERIES_CLASSIFICATION/AnomalyBERT-main\n"
          ]
        }
      ],
      "source": [
        "%cd gdrive/MyDrive/ROBUST_TIME SERIES_CLASSIFICATION/AnomalyBERT-main"
      ]
    },
    {
      "cell_type": "code",
      "execution_count": 3,
      "metadata": {
        "id": "-0upJUhczCUl"
      },
      "outputs": [],
      "source": [
        "import numpy as np\n",
        "import pandas as pd\n",
        "import torch\n",
        "import torch.nn as nn\n",
        "import torch.optim as optim\n",
        "import random\n",
        "from torch.utils.data import Dataset, DataLoader\n",
        "from sklearn.preprocessing import MinMaxScaler\n",
        "# Training loop\n",
        "import numpy as np\n",
        "import pandas as pd\n",
        "import torch\n",
        "import torch.nn as nn\n",
        "import torch.optim as optim\n",
        "from torch.utils.data import Dataset, DataLoader\n",
        "from sklearn.preprocessing import MinMaxScaler\n",
        "from sklearn.model_selection import train_test_split\n",
        "from sklearn.metrics import precision_recall_fscore_support, roc_auc_score, roc_curve\n",
        "import matplotlib.pyplot as plt\n",
        "from torch.distributions import MultivariateNormal\n",
        "import numpy as np\n",
        "import torch\n",
        "from torch.utils.data import Dataset, DataLoader\n",
        "import random\n",
        "from sklearn.metrics import precision_recall_fscore_support, accuracy_score, roc_curve, auc\n",
        "from torch.nn.utils.rnn import pad_sequence\n"
      ]
    },
    {
      "cell_type": "code",
      "execution_count": null,
      "metadata": {
        "colab": {
          "base_uri": "https://localhost:8080/"
        },
        "id": "J9YhicYRXTfX",
        "outputId": "bd53bac4-ff68-4548-8a2a-6a4eda814897"
      },
      "outputs": [
        {
          "data": {
            "text/plain": [
              "(93873, 26)"
            ]
          },
          "execution_count": 4,
          "metadata": {},
          "output_type": "execute_result"
        }
      ],
      "source": [
        "data_norm_anom = pd.read_csv('/content/gdrive/MyDrive/DATASETS/TIME_SERIES_MULTI_V_DATA/SWAT_NORMALIZED.csv')\n",
        "data_norm_anom = data_norm_anom.iloc[0:100000]\n",
        "data_norm_anom = data_norm_anom.dropna()\n",
        "\n",
        "df_normal = data_norm_anom[data_norm_anom['Label'] == 0]\n",
        "df_normal = df_normal.iloc[:, 0:-1]\n",
        "df_normal.shape"
      ]
    },
    {
      "cell_type": "code",
      "execution_count": null,
      "metadata": {
        "colab": {
          "base_uri": "https://localhost:8080/"
        },
        "collapsed": true,
        "id": "XlZrhcYWz5zq",
        "outputId": "98ce75b2-f1f6-4af3-bc17-2da714bd977e"
      },
      "outputs": [
        {
          "data": {
            "text/plain": [
              "(4466, 26)"
            ]
          },
          "execution_count": 5,
          "metadata": {},
          "output_type": "execute_result"
        }
      ],
      "source": [
        "data_norm_anom = pd.read_csv('/content/gdrive/MyDrive/DATASETS/TIME_SERIES_MULTI_V_DATA/SWAT_NORMALIZED.csv')\n",
        "data_norm_anom = data_norm_anom.iloc[0:20000]\n",
        "data_norm_anom = data_norm_anom.dropna()\n",
        "\n",
        "df_anomaly = data_norm_anom[data_norm_anom['Label'] == 1]\n",
        "df_anomaly = df_anomaly.iloc[:, 0:-1]\n",
        "df_anomaly.shape"
      ]
    },
    {
      "cell_type": "code",
      "execution_count": null,
      "metadata": {
        "colab": {
          "base_uri": "https://localhost:8080/"
        },
        "collapsed": true,
        "id": "ppx0spNZ6y_T",
        "outputId": "c5cc5fad-c004-4175-a1e0-0165467f964c"
      },
      "outputs": [
        {
          "data": {
            "text/plain": [
              "(4466, 26)"
            ]
          },
          "execution_count": 21,
          "metadata": {},
          "output_type": "execute_result"
        }
      ],
      "source": [
        "df_anomaly = df_anomaly.values\n",
        "df_anomaly.shape"
      ]
    },
    {
      "cell_type": "code",
      "execution_count": null,
      "metadata": {
        "colab": {
          "base_uri": "https://localhost:8080/"
        },
        "id": "Xb879izWg0aO",
        "outputId": "8cb43ba7-5dce-40e4-c980-79a05725ae1d",
        "collapsed": true
      },
      "outputs": [
        {
          "data": {
            "text/plain": [
              "(93873, 26)"
            ]
          },
          "execution_count": 6,
          "metadata": {},
          "output_type": "execute_result"
        }
      ],
      "source": [
        "df_normal = df_normal.values\n",
        "df_normal.shape"
      ]
    },
    {
      "cell_type": "code",
      "execution_count": null,
      "metadata": {
        "collapsed": true,
        "id": "YnFPZAqmAbw0"
      },
      "outputs": [],
      "source": []
    },
    {
      "cell_type": "code",
      "execution_count": null,
      "metadata": {
        "id": "bD-Ze8_Ch0nk"
      },
      "outputs": [],
      "source": [
        "import numpy as np\n",
        "import random\n",
        "\n",
        "class SyntheticAnomalyGenerator:\n",
        "    def __init__(self,\n",
        "                 window_size,\n",
        "                 reference_anomalies,\n",
        "                 anomaly_types=['local_perturbation']):\n",
        "        \"\"\"\n",
        "        Initializes the anomaly generator that oversamples real anomaly data\n",
        "        but applies small perturbations to create a local neighborhood around\n",
        "        the real anomalies.\n",
        "\n",
        "        Args:\n",
        "            window_size (int): The size of the anomaly window to inject.\n",
        "            reference_anomalies (np.ndarray): Real anomaly data from which to oversample.\n",
        "              Shape could be (num_anomalies, sequence_length, num_features) or\n",
        "              (num_anomalies, num_features) if each row is a snippet, etc.\n",
        "            anomaly_types (list): We keep it flexible, but default to ['local_perturbation'].\n",
        "        \"\"\"\n",
        "        self.anomaly_types = anomaly_types\n",
        "        self.window_size = window_size\n",
        "\n",
        "        # Real anomaly data to oversample from\n",
        "        self.reference_anomalies = reference_anomalies\n",
        "\n",
        "    def inject_anomaly_into_sequence(self, sequence):\n",
        "        \"\"\"\n",
        "        Called externally to inject an anomaly into 'sequence' by\n",
        "        picking a real anomaly snippet, perturbing it, and overlaying.\n",
        "        \"\"\"\n",
        "        anomalous_sequence = sequence.copy()\n",
        "        anomaly_type = random.choice(self.anomaly_types)\n",
        "\n",
        "        seq_length, num_features = anomalous_sequence.shape\n",
        "\n",
        "        if seq_length <= self.window_size:\n",
        "            t0 = 0\n",
        "            t1 = seq_length\n",
        "        else:\n",
        "            t0 = random.randint(0, seq_length - self.window_size)\n",
        "            t1 = t0 + self.window_size\n",
        "\n",
        "        if anomaly_type == 'local_perturbation':\n",
        "            anomalous_sequence = self.local_perturbation_injection(anomalous_sequence, t0, t1)\n",
        "        elif anomaly_type == 'permutation_anomaly':\n",
        "            # optional, if you want partial permutations\n",
        "            anomalous_sequence = self.permutation_anomaly(anomalous_sequence, t0, t1)\n",
        "\n",
        "        return anomalous_sequence\n",
        "\n",
        "    def local_perturbation_injection(self, sequence, t0, t1):\n",
        "        \"\"\"\n",
        "        1) Randomly pick a real anomaly snippet from reference_anomalies.\n",
        "        2) Possibly adapt or clamp it to 'window_size'.\n",
        "        3) Add small random perturbations (noise, slight scaling, partial permutations, etc.).\n",
        "        4) Overlay onto 'sequence[t0:t1]'.\n",
        "        \"\"\"\n",
        "        anomalous_sequence = sequence.copy()\n",
        "        window_length = t1 - t0\n",
        "        seq_length, num_features = anomalous_sequence.shape\n",
        "\n",
        "        # 1) pick a random anomaly snippet from reference_anomalies\n",
        "        #    Suppose reference_anomalies has shape (num_anomalies, anomaly_length, num_features)\n",
        "        #    or (num_anomalies, num_features) if each row is a snippet.\n",
        "        rand_idx = random.randint(0, self.reference_anomalies.shape[0]-1)\n",
        "        real_anomaly_snippet = self.reference_anomalies[rand_idx]\n",
        "\n",
        "        # Check if real_anomaly_snippet is 2D or 1D\n",
        "        if real_anomaly_snippet.ndim == 1:\n",
        "            # shape (num_features,) => we replicate or clamp it\n",
        "            # e.g. we'll just tile it for 'window_length'\n",
        "            real_anomaly_snippet = np.tile(real_anomaly_snippet, (window_length,1))\n",
        "        elif real_anomaly_snippet.shape[0] != window_length:\n",
        "            # We do a clamp or pad approach:\n",
        "            real_len = real_anomaly_snippet.shape[0]\n",
        "            if real_len > window_length:\n",
        "                # clamp\n",
        "                start_ = random.randint(0, real_len - window_length)\n",
        "                real_anomaly_snippet = real_anomaly_snippet[start_:start_+window_length, :]\n",
        "            else:\n",
        "                # if real_len < window_length => pad repeats or edge\n",
        "                repeats_needed = window_length - real_len\n",
        "                # simplest => tile or pad\n",
        "                real_anomaly_snippet = np.concatenate([\n",
        "                    real_anomaly_snippet,\n",
        "                    np.tile(real_anomaly_snippet[-1,:], (repeats_needed,1))\n",
        "                ], axis=0)\n",
        "\n",
        "        # Now real_anomaly_snippet is shape (window_length, num_features)\n",
        "\n",
        "        # 2) Add small perturbations\n",
        "        perturbed_snippet = self.apply_small_perturbations(real_anomaly_snippet)\n",
        "\n",
        "        # 3) Overlay\n",
        "        anomalous_sequence[t0:t1] = perturbed_snippet\n",
        "        return anomalous_sequence\n",
        "\n",
        "    def apply_small_perturbations(self, snippet):\n",
        "        \"\"\"\n",
        "        snippet shape: (window_length, num_features)\n",
        "        We'll do e.g.:\n",
        "          - small gaussian noise\n",
        "          - slight random scaling per feature\n",
        "          - partial permutations of a few rows (rare)\n",
        "        all to keep changes mild.\n",
        "        \"\"\"\n",
        "        w_len, n_feats = snippet.shape\n",
        "        snippet_ = snippet.copy()\n",
        "\n",
        "        # A) small gaussian noise\n",
        "        noise_std = 0.05 * np.std(snippet_)  # e.g. 5% of snippet's std\n",
        "        noise = np.random.normal(0, noise_std, snippet_.shape)\n",
        "        snippet_ += noise\n",
        "\n",
        "        # B) slight random scaling per feature\n",
        "        # e.g. each feature f => scale_f in [0.95,1.05]\n",
        "        scales = 0.95 + 0.1*np.random.rand(n_feats)\n",
        "        for f in range(n_feats):\n",
        "            snippet_[:, f] *= scales[f]\n",
        "\n",
        "        # C) partial row permutation, only a few rows\n",
        "        # e.g. we permute 10% of the snippet rows:\n",
        "        row_count = int(0.1 * w_len)  # 10% of rows\n",
        "        if row_count>1:\n",
        "            perm_indices = np.random.choice(w_len, size=row_count, replace=False)\n",
        "            # shuffle those rows\n",
        "            snippet_[perm_indices] = snippet_[np.random.permutation(perm_indices)]\n",
        "\n",
        "        return snippet_\n",
        "\n",
        "    def permutation_anomaly(self, sequence, t0, t1):\n",
        "        \"\"\"\n",
        "        If you want a direct 'permutation_anomaly' approach:\n",
        "        \"\"\"\n",
        "        anomalous_sequence = sequence.copy()\n",
        "        window = anomalous_sequence[t0:t1]\n",
        "        perm_indices = np.random.permutation(len(window))\n",
        "        permuted_window = window[perm_indices]\n",
        "        anomalous_sequence[t0:t1] = permuted_window\n",
        "        return anomalous_sequence\n"
      ]
    },
    {
      "cell_type": "code",
      "execution_count": null,
      "metadata": {
        "id": "2uzF-BNuJA_j"
      },
      "outputs": [],
      "source": [
        "def extract_sequences(time_series_data, window_size, step_size):\n",
        "    total_length, num_features = time_series_data.shape\n",
        "    sequences = []\n",
        "\n",
        "    for start_idx in range(0, total_length - window_size + 1, step_size):\n",
        "        end_idx = start_idx + window_size\n",
        "        sequence = time_series_data[start_idx:end_idx]\n",
        "        sequences.append(sequence)\n",
        "\n",
        "    return sequences"
      ]
    },
    {
      "cell_type": "code",
      "execution_count": null,
      "metadata": {
        "id": "39G_oCPWJKYv"
      },
      "outputs": [],
      "source": []
    },
    {
      "cell_type": "code",
      "execution_count": null,
      "metadata": {
        "id": "uxIDWZgjH24Y"
      },
      "outputs": [],
      "source": [
        "def generate_consecutive_pairs(sequences, sequence_labels):\n",
        "    \"\"\"\n",
        "    Generate pairs of consecutive sequences.\n",
        "\n",
        "    Args:\n",
        "        sequences (list): List of sequences.\n",
        "        sequence_labels (list): Corresponding labels for each sequence.\n",
        "\n",
        "    Returns:\n",
        "        x1_pairs (list): List of sequences for x1.\n",
        "        x2_pairs (list): List of sequences for x2.\n",
        "        pair_labels (list): List of labels for each pair (0 for normal-normal, 1 for anomaly-involved).\n",
        "    \"\"\"\n",
        "    x1_pairs = []\n",
        "    x2_pairs = []\n",
        "    pair_labels = []\n",
        "\n",
        "    for i in range(len(sequences) - 1):\n",
        "        x1 = sequences[i]\n",
        "        x2 = sequences[i + 1]\n",
        "        label = 0  # Default to normal-normal\n",
        "\n",
        "        # If either sequence is anomalous, label the pair as anomaly-involved\n",
        "        if sequence_labels[i] == 1 or sequence_labels[i + 1] == 1:\n",
        "            label = 1\n",
        "\n",
        "        x1_pairs.append(x1)\n",
        "        x2_pairs.append(x2)\n",
        "        pair_labels.append(label)\n",
        "\n",
        "    return x1_pairs, x2_pairs, pair_labels\n"
      ]
    },
    {
      "cell_type": "code",
      "execution_count": null,
      "metadata": {
        "id": "B2NEep7tJOON"
      },
      "outputs": [],
      "source": [
        "def collate_fn(batch):\n",
        "    x1_batch, x2_batch, labels = zip(*batch)\n",
        "\n",
        "    x1_batch = [torch.tensor(x, dtype=torch.float32) for x in x1_batch]\n",
        "    x2_batch = [torch.tensor(x, dtype=torch.float32) for x in x2_batch]\n",
        "\n",
        "    x1_lengths = torch.tensor([seq.size(0) for seq in x1_batch], dtype=torch.long)\n",
        "    x2_lengths = torch.tensor([seq.size(0) for seq in x2_batch], dtype=torch.long)\n",
        "\n",
        "    padded_x1 = pad_sequence(x1_batch, batch_first=True, padding_value=0.0)\n",
        "    padded_x2 = pad_sequence(x2_batch, batch_first=True, padding_value=0.0)\n",
        "\n",
        "    labels = torch.tensor(labels, dtype=torch.float32)  # For contrastive loss, labels should be float\n",
        "\n",
        "    max_len_x1 = padded_x1.size(1)\n",
        "    max_len_x2 = padded_x2.size(1)\n",
        "\n",
        "    range_x1 = torch.arange(max_len_x1).unsqueeze(0).expand(len(x1_lengths), max_len_x1)\n",
        "    range_x2 = torch.arange(max_len_x2).unsqueeze(0).expand(len(x2_lengths), max_len_x2)\n",
        "\n",
        "    x1_mask = (range_x1 >= x1_lengths.unsqueeze(1)).to(torch.bool)\n",
        "    x2_mask = (range_x2 >= x2_lengths.unsqueeze(1)).to(torch.bool)\n",
        "\n",
        "    return padded_x1, padded_x2, labels, x1_mask, x2_mask\n"
      ]
    },
    {
      "cell_type": "code",
      "execution_count": null,
      "metadata": {
        "collapsed": true,
        "id": "CH8PPt7YFaRd"
      },
      "outputs": [],
      "source": []
    },
    {
      "cell_type": "code",
      "execution_count": null,
      "metadata": {
        "id": "aH1jWcXSIs_p"
      },
      "outputs": [],
      "source": [
        "def apply_synthetic_anomalies_to_sequences(sequences, anomaly_percentage, anomaly_generator):\n",
        "    \"\"\"\n",
        "    Inject synthetic anomalies into a specified percentage of sequences.\n",
        "\n",
        "    Args:\n",
        "        sequences (list): List of sequences extracted from the time series data.\n",
        "        anomaly_percentage (float): Percentage of sequences to inject anomalies (0.1 to 1.0).\n",
        "        anomaly_generator (SyntheticAnomalyGenerator): An instance of the anomaly generator.\n",
        "\n",
        "    Returns:\n",
        "        augmented_sequences (list): List of sequences after injecting anomalies.\n",
        "        sequence_labels (list): Labels for each sequence (0 for normal, 1 for anomaly).\n",
        "    \"\"\"\n",
        "    num_sequences = len(sequences)\n",
        "    num_anomalous_sequences = int(num_sequences * anomaly_percentage)\n",
        "    anomaly_indices = set(random.sample(range(num_sequences), num_anomalous_sequences))\n",
        "\n",
        "    augmented_sequences = []\n",
        "    sequence_labels = []\n",
        "\n",
        "    for i, seq in enumerate(sequences):\n",
        "        if i in anomaly_indices:\n",
        "            # Inject anomaly into the entire sequence\n",
        "            augmented_seq = anomaly_generator.inject_anomaly_into_sequence(seq)\n",
        "            augmented_sequences.append(augmented_seq)\n",
        "            sequence_labels.append(1)\n",
        "        else:\n",
        "            # Normal sequence\n",
        "            augmented_sequences.append(seq)\n",
        "            sequence_labels.append(0)\n",
        "\n",
        "    return augmented_sequences, sequence_labels\n"
      ]
    },
    {
      "cell_type": "code",
      "execution_count": null,
      "metadata": {
        "id": "S2tSjWGtFdOm"
      },
      "outputs": [],
      "source": []
    },
    {
      "cell_type": "code",
      "execution_count": null,
      "metadata": {
        "id": "4n-bHfX-Fhp6"
      },
      "outputs": [],
      "source": [
        "import torch\n",
        "from torch.utils.data import Dataset\n",
        "\n",
        "class TimeSeriesDataset(Dataset):\n",
        "    def __init__(self, x1_pairs, x2_pairs, pair_labels, transform=None):\n",
        "        assert len(x1_pairs) == len(x2_pairs) == len(pair_labels), \"All inputs must have the same length.\"\n",
        "        self.x1_pairs = x1_pairs\n",
        "        self.x2_pairs = x2_pairs\n",
        "        self.pair_labels = pair_labels\n",
        "        self.transform = transform\n",
        "\n",
        "    def __len__(self):\n",
        "        return len(self.pair_labels)\n",
        "\n",
        "    def __getitem__(self, idx):\n",
        "        x1 = self.x1_pairs[idx]\n",
        "        x2 = self.x2_pairs[idx]\n",
        "        label = self.pair_labels[idx]\n",
        "\n",
        "        if self.transform:\n",
        "            x1 = self.transform(x1)\n",
        "            x2 = self.transform(x2)\n",
        "\n",
        "        return x1, x2, label\n"
      ]
    },
    {
      "cell_type": "code",
      "execution_count": null,
      "metadata": {
        "id": "h4Cu5msgJT8Z"
      },
      "outputs": [],
      "source": [
        "class TransformerEncoder(nn.Module):\n",
        "    def __init__(self, input_dim, model_dim, num_heads, num_layers, dropout):\n",
        "        super(TransformerEncoder, self).__init__()\n",
        "        self.input_proj = nn.Linear(input_dim, model_dim)\n",
        "        encoder_layer = nn.TransformerEncoderLayer(\n",
        "            d_model=model_dim, nhead=num_heads, dropout=dropout, batch_first=True\n",
        "        )\n",
        "        self.transformer_encoder = nn.TransformerEncoder(\n",
        "            encoder_layer, num_layers=num_layers\n",
        "        )\n",
        "        self.output_proj = nn.Linear(model_dim, model_dim)\n",
        "        self.activation = nn.ReLU()\n",
        "        self.dropout = nn.Dropout(dropout)\n",
        "\n",
        "    def forward(self, x, src_key_padding_mask=None):\n",
        "        x = self.input_proj(x)  # (batch_size, seq_length, model_dim)\n",
        "        x = self.dropout(x)\n",
        "        x = self.transformer_encoder(x, src_key_padding_mask=src_key_padding_mask)  # (batch_size, seq_length, model_dim)\n",
        "\n",
        "        if src_key_padding_mask is not None:\n",
        "            # Create data mask: True where data is present\n",
        "            data_mask = (~src_key_padding_mask).unsqueeze(2).type_as(x)  # (batch_size, seq_length, 1)\n",
        "            x = x * data_mask  # Zero out padding positions: (batch_size, seq_length, model_dim)\n",
        "            x_sum = x.sum(dim=1)  # Sum over seq_length: (batch_size, model_dim)\n",
        "\n",
        "            lengths = data_mask.sum(dim=1)  # Sum over seq_length: (batch_size, 1)\n",
        "            lengths = lengths.clamp(min=1)  # Avoid division by zero\n",
        "            x = x_sum / lengths  # (batch_size, model_dim)\n",
        "        else:\n",
        "            x = x.mean(dim=1)  # Average over seq_length: (batch_size, model_dim)\n",
        "\n",
        "        x = self.output_proj(x)  # (batch_size, model_dim)\n",
        "        x = self.activation(x)\n",
        "        return x\n"
      ]
    },
    {
      "cell_type": "code",
      "execution_count": null,
      "metadata": {
        "id": "j4-B-OYt1WM9"
      },
      "outputs": [],
      "source": [
        "class GaussianCopula(nn.Module):\n",
        "    def __init__(self, latent_dim):\n",
        "        super(GaussianCopula, self).__init__()\n",
        "        self.latent_dim = latent_dim\n",
        "        n_tril_elements = (self.latent_dim * (self.latent_dim + 1)) // 2\n",
        "        self.L_params = nn.Parameter(torch.randn(n_tril_elements) * 0.1)\n",
        "\n",
        "    def forward(self, z, mu=None, std=None):\n",
        "        batch_size = z.size(0)\n",
        "        eps = 1e-4\n",
        "\n",
        "        if mu is None or std is None:\n",
        "            # Compute mu and std from z\n",
        "            mu = z.mean(dim=0, keepdim=True)\n",
        "            std = z.std(dim=0, keepdim=True, unbiased=False) + eps\n",
        "        else:\n",
        "            # Use provided mu and std\n",
        "            mu = mu.to(z.device)\n",
        "            std = std.to(z.device)\n",
        "\n",
        "        zero_std_mask = (std == 0)\n",
        "        if zero_std_mask.any():\n",
        "            std[zero_std_mask] = eps\n",
        "\n",
        "        z_standard = (z - mu) / std\n",
        "        # Clip z_standard to prevent extreme values\n",
        "        z_standard = torch.clamp(z_standard, min=-10.0, max=10.0)\n",
        "\n",
        "        # Compute u using the CDF of standard normal\n",
        "        u = torch.distributions.Normal(0, 1).cdf(z_standard)\n",
        "        u = torch.clamp(u, min=eps, max=1.0 - eps)\n",
        "\n",
        "        # Apply inverse CDF of standard normal\n",
        "        z_transformed = torch.distributions.Normal(0, 1).icdf(u)\n",
        "\n",
        "        # Build the Cholesky factor L\n",
        "        L = torch.zeros(self.latent_dim, self.latent_dim, device=z.device)\n",
        "        tril_indices = torch.tril_indices(row=self.latent_dim, col=self.latent_dim, offset=0)\n",
        "        L[tril_indices[0], tril_indices[1]] = self.L_params\n",
        "\n",
        "        # Ensure positive diagonal entries\n",
        "        diag_indices = torch.arange(self.latent_dim, device=z.device)\n",
        "        L_diag = torch.diagonal(L).clone()\n",
        "        L_diag = torch.nn.functional.softplus(L_diag) + eps\n",
        "        L[diag_indices, diag_indices] = L_diag.clone()\n",
        "\n",
        "        # Define multivariate normal distribution using the Cholesky factor\n",
        "        mvn = MultivariateNormal(loc=torch.zeros(self.latent_dim, device=z.device), scale_tril=L)\n",
        "\n",
        "        # Compute log-likelihood\n",
        "        log_prob = mvn.log_prob(z_transformed)\n",
        "\n",
        "        return log_prob  # shape: (batch_size,)\n"
      ]
    },
    {
      "cell_type": "code",
      "execution_count": null,
      "metadata": {
        "id": "PXlFE9KQpdnw"
      },
      "outputs": [],
      "source": [
        "class StudentTCopula(nn.Module):\n",
        "    def __init__(self, latent_dim):\n",
        "        super(StudentTCopula, self).__init__()\n",
        "        self.latent_dim = latent_dim\n",
        "        n_tril_elements = (self.latent_dim * (self.latent_dim + 1)) // 2\n",
        "        self.L_params = nn.Parameter(torch.randn(n_tril_elements) * 0.1)\n",
        "\n",
        "    def forward(self, z, mu=None, std=None):\n",
        "        batch_size = z.size(0)\n",
        "        eps = 1e-4\n",
        "\n",
        "        if mu is None or std is None:\n",
        "            # Compute mu and std from z\n",
        "            mu = z.mean(dim=0, keepdim=True)\n",
        "            std = z.std(dim=0, keepdim=True, unbiased=False) + eps\n",
        "        else:\n",
        "            # Use provided mu and std\n",
        "            mu = mu.to(z.device)\n",
        "            std = std.to(z.device)\n",
        "\n",
        "        zero_std_mask = (std == 0)\n",
        "        if zero_std_mask.any():\n",
        "            std[zero_std_mask] = eps\n",
        "\n",
        "        z_standard = (z - mu) / std\n",
        "        # Clip z_standard to prevent extreme values\n",
        "        z_standard = torch.clamp(z_standard, min=-10.0, max=10.0)\n",
        "\n",
        "        # Compute u using the CDF of standard normal\n",
        "        u = torch.distributions.Normal(0, 1).cdf(z_standard)\n",
        "        u = torch.clamp(u, min=eps, max=1.0 - eps)\n",
        "\n",
        "        # Apply inverse CDF of standard normal\n",
        "        z_transformed = torch.distributions.Normal(0, 1).icdf(u)\n",
        "\n",
        "        # Build the Cholesky factor L\n",
        "        L = torch.zeros(self.latent_dim, self.latent_dim, device=z.device)\n",
        "        tril_indices = torch.tril_indices(row=self.latent_dim, col=self.latent_dim, offset=0)\n",
        "        L[tril_indices[0], tril_indices[1]] = self.L_params\n",
        "\n",
        "        # Ensure positive diagonal entries\n",
        "        diag_indices = torch.arange(self.latent_dim, device=z.device)\n",
        "        L_diag = torch.diagonal(L).clone()\n",
        "        L_diag = torch.nn.functional.softplus(L_diag) + eps\n",
        "        L[diag_indices, diag_indices] = L_diag.clone()\n",
        "\n",
        "        # Define multivariate normal distribution using the Cholesky factor\n",
        "        mvn = MultivariateNormal(loc=torch.zeros(self.latent_dim, device=z.device), scale_tril=L)\n",
        "\n",
        "        # Compute log-likelihood\n",
        "        log_prob = mvn.log_prob(z_transformed)\n",
        "\n",
        "        return log_prob  # shape: (batch_size,)\n"
      ]
    },
    {
      "cell_type": "code",
      "execution_count": null,
      "metadata": {
        "id": "VrJHGhYg7BkP"
      },
      "outputs": [],
      "source": []
    },
    {
      "cell_type": "code",
      "execution_count": null,
      "metadata": {
        "id": "Xt-ZGHdUgKjM"
      },
      "outputs": [],
      "source": [
        "import torch.nn.functional as F\n",
        "\n",
        "def contrastive_loss(ll_gaussian, ll_vine, pair_labels, alpha=0.5, base_margin= 0.0):\n",
        "    \"\"\"\n",
        "      A contrastive loss for separating normal vs. anomaly log-likelihoods with a *dynamic* margin:\n",
        "\n",
        "      1) Normal frames => maximize log-likelihood => loss = -LL_normal\n",
        "      2) Anomaly frames => LL_anomaly <= (mean_normal_LL - base_offset) on a per-sample basis.\n",
        "\n",
        "    Now we receive both Gaussian and Vine LL. We pick the appropriate LL based on the labels:\n",
        "    - Normal pairs (label=0) -> Gaussian Copula LL\n",
        "    - Anomaly pairs (label=1) -> Vine Copula LL\n",
        "    \"\"\"\n",
        "    pair_labels = pair_labels.view(-1)\n",
        "    # Select appropriate LL based on labels\n",
        "    chosen_ll = torch.where(pair_labels == 0, ll_gaussian, ll_vine)\n",
        "\n",
        "    normal_ll = chosen_ll[pair_labels == 0]\n",
        "    anomaly_ll = chosen_ll[pair_labels == 1]\n",
        "    #print (f\"Normal LL: {normal_ll.mean()}\")\n",
        "    #print (f\"Anomaly LL: {anomaly_ll.mean()}\")\n",
        "\n",
        "    if len(normal_ll) > 0:\n",
        "        loss_normal = -normal_ll\n",
        "        mean_normal_ll = normal_ll.mean()\n",
        "    else:\n",
        "        loss_normal = torch.tensor(0.0, device=chosen_ll.device)\n",
        "        mean_normal_ll = torch.tensor(0.0, device=chosen_ll.device)\n",
        "\n",
        "    # -----------------------\n",
        "    # Anomaly portion\n",
        "    # -----------------------\n",
        "    # We'll define a *dynamic margin* for anomalies\n",
        "    # margin_dyn = mean_normal_ll - base_offset\n",
        "    # Then for each anomaly sample 'a', we want a <= margin_dyn => diff = a - margin_dyn => F.relu(diff)\n",
        "    # If diff>0 => penalty\n",
        "    if len(anomaly_ll) > 0:\n",
        "        margin_dyn = mean_normal_ll - base_margin\n",
        "        # shape (#anomalies,)\n",
        "        diff = anomaly_ll - margin_dyn\n",
        "        # sample-level margin\n",
        "        loss_anomaly = alpha * F.relu(diff).mean()\n",
        "    else:\n",
        "        loss_anomaly = torch.tensor(0.0, device=device)\n",
        "\n",
        "    total_loss = (1 - alpha) * loss_normal.mean() + loss_anomaly.mean()\n",
        "\n",
        "\n",
        "      # Monitoring: Print average log-likelihoods for debugging\n",
        "    if len(normal_ll) > 0:\n",
        "        print(f\"Contrastive Loss - Normal LL Mean: {loss_normal.mean().item():.4f}\")\n",
        "    else:\n",
        "        print(\"Contrastive Loss - No Normal Samples in Batch.\")\n",
        "\n",
        "    if len(anomaly_ll) > 0:\n",
        "        print(f\"Contrastive Loss - Anomalous LL Mean: {loss_anomaly.mean().item():.4f}\")\n",
        "    else:\n",
        "        print(\"Contrastive Loss - No Anomalous Samples in Batch.\")\n",
        "\n",
        "    return total_loss"
      ]
    },
    {
      "cell_type": "code",
      "execution_count": null,
      "metadata": {
        "id": "O-Ne1Xtq2Znk"
      },
      "outputs": [],
      "source": []
    },
    {
      "cell_type": "code",
      "execution_count": null,
      "metadata": {
        "id": "kFDlWwpCNLA7"
      },
      "outputs": [],
      "source": [
        "class AnomalyTransformer(nn.Module):\n",
        "    def __init__(self, input_dim, model_dim, num_heads, num_layers, dropout, embedding_dim=64):\n",
        "        super(AnomalyTransformer, self).__init__()\n",
        "        self.encoder = TransformerEncoder(input_dim, model_dim, num_heads, num_layers, dropout)\n",
        "\n",
        "        # We now have two different copulas\n",
        "        self.gaussian_copula = GaussianCopula(latent_dim=2 * model_dim)\n",
        "        self.vine_copula = StudentTCopula(latent_dim=2 * model_dim)\n",
        "\n",
        "        self.embedding_layer = nn.Linear(2 * model_dim, embedding_dim)\n",
        "\n",
        "    def forward(self, x1, x2, mask1=None, mask2=None):\n",
        "        z1 = self.encoder(x1, src_key_padding_mask=mask1)\n",
        "        z2 = self.encoder(x2, src_key_padding_mask=mask2)\n",
        "        z = torch.cat((z1, z2), dim=1)\n",
        "\n",
        "        # Compute both Gaussian and Vine likelihoods\n",
        "        ll_gaussian = self.gaussian_copula(z)\n",
        "        ll_vine = self.vine_copula(z)\n",
        "        return ll_gaussian, ll_vine\n",
        "\n",
        "    def get_embeddings(self, x1, x2, mask1=None, mask2=None):\n",
        "        # Instead of passing x1, x2 as (B, features),\n",
        "        # we do x1 => (B, 1, features)\n",
        "        if x1.dim() == 2:\n",
        "            x1 = x1.unsqueeze(1)  # shape => (B,1,features)\n",
        "        if x2.dim() == 2:\n",
        "            x2 = x2.unsqueeze(1)\n",
        "\n",
        "        transformed_x1 = self.encoder(x1, src_key_padding_mask=mask1)\n",
        "        transformed_x2 = self.encoder(x2, src_key_padding_mask=mask2)\n",
        "\n",
        "        # Now each is likely shape (B, seq_len=1, model_dim) or (B, model_dim)\n",
        "        # if the encoder does a mean over seq_len => shape (B, model_dim).\n",
        "        # We need to confirm the final shape. If the encoder returns 3D => e.g. (B,1,model_dim),\n",
        "        # we might want to reduce it to 2D => (B,model_dim) by mean over dim=1.\n",
        "        if transformed_x1.dim() == 3:\n",
        "            # e.g. if shape => (B,1,hidden_dim), reduce to (B, hidden_dim)\n",
        "            transformed_x1 = transformed_x1.mean(dim=1)\n",
        "        if transformed_x2.dim() == 3:\n",
        "            transformed_x2 = transformed_x2.mean(dim=1)\n",
        "\n",
        "        # Now each => (B, hidden_dim)\n",
        "        combined = torch.cat((transformed_x1, transformed_x2), dim=1)  # => (B,2*hidden_dim)\n",
        "        embeddings = self.embedding_layer(combined)  # => (B, embed_dim)\n",
        "        return embeddings"
      ]
    },
    {
      "cell_type": "code",
      "execution_count": null,
      "metadata": {
        "id": "y_kb7pmqI45z"
      },
      "outputs": [],
      "source": [
        "#"
      ]
    },
    {
      "cell_type": "code",
      "execution_count": null,
      "metadata": {
        "colab": {
          "base_uri": "https://localhost:8080/"
        },
        "id": "M-SCQwEaGSAt",
        "outputId": "36eeba33-7fc3-4e7a-c721-f3cff489f182"
      },
      "outputs": [
        {
          "name": "stdout",
          "output_type": "stream",
          "text": [
            "Total extracted sequences: 3751\n",
            "Total anomalous sequences: 1312\n",
            "Total generated pairs: 3750\n",
            "Anomaly-involved pairs: 2161\n",
            "Normal-normal pairs: 1589\n"
          ]
        }
      ],
      "source": [
        "window_size = 100\n",
        "step_size = 25  # Non-overlapping sequences\n",
        "anomaly_percentage = 0.35 # 20% of sequences will be anomalous\n",
        "batch_size = 128\n",
        "\n",
        "# Initialize synthetic anomaly generator\n",
        "#anomaly_generator = SyntheticAnomalyGenerator(window_size=window_size, copula_model=gaussian_cop, anomaly_types = \"copula_injection\")\n",
        "#anomaly_generator = SyntheticAnomalyGenerator(window_size=window_size)\n",
        "\n",
        "# Step 1: Extract sequences from the raw data\n",
        "sequences = extract_sequences(df_normal, window_size=window_size, step_size=step_size)\n",
        "print(f\"Total extracted sequences: {len(sequences)}\")\n",
        "\n",
        "anomaly_generator = SyntheticAnomalyGenerator(\n",
        "    window_size=window_size,\n",
        "    reference_anomalies=df_anomaly,\n",
        "    anomaly_types=['local_perturbation']  # can add 'permutation_anomaly' if desired\n",
        ")\n",
        "\n",
        "# Step 2: Inject anomalies into sequences\n",
        "augmented_sequences, sequence_labels = apply_synthetic_anomalies_to_sequences(\n",
        "    sequences,\n",
        "    anomaly_percentage=anomaly_percentage,\n",
        "    anomaly_generator=anomaly_generator\n",
        ")\n",
        "print(f\"Total anomalous sequences: {sum(sequence_labels)}\")\n",
        "\n",
        "# Step 3: Generate consecutive pairs\n",
        "x1_pairs, x2_pairs, pair_labels = generate_consecutive_pairs(augmented_sequences, sequence_labels)\n",
        "print(f\"Total generated pairs: {len(pair_labels)}\")\n",
        "print(f\"Anomaly-involved pairs: {sum(pair_labels)}\")\n",
        "print(f\"Normal-normal pairs: {len(pair_labels) - sum(pair_labels)}\")\n"
      ]
    },
    {
      "cell_type": "code",
      "execution_count": null,
      "metadata": {
        "colab": {
          "base_uri": "https://localhost:8080/"
        },
        "id": "tjZNUIy0Wm-t",
        "outputId": "8a3d6d7b-8f2c-4291-df69-e7c963b7491a"
      },
      "outputs": [
        {
          "name": "stderr",
          "output_type": "stream",
          "text": [
            "/usr/local/lib/python3.11/dist-packages/torch/utils/data/dataloader.py:617: UserWarning: This DataLoader will create 4 worker processes in total. Our suggested max number of worker in current system is 2, which is smaller than what this DataLoader is going to create. Please be aware that excessive worker creation might get DataLoader running slow or even freeze, lower the worker number to avoid potential slowness/freeze if necessary.\n",
            "  warnings.warn(\n"
          ]
        }
      ],
      "source": [
        "from torch.utils.data import DataLoader, Subset\n",
        "import torch\n",
        "\n",
        "# 1) Train dataset from x1_pairs, x2_pairs, pair_labels\n",
        "train_dataset = TimeSeriesDataset(\n",
        "    x1_pairs=x1_pairs,\n",
        "    x2_pairs=x2_pairs,\n",
        "    pair_labels=pair_labels,\n",
        "    transform=None\n",
        ")\n",
        "\n",
        "train_loader = DataLoader(\n",
        "    train_dataset,\n",
        "    batch_size=64,\n",
        "    shuffle=True,\n",
        "    num_workers=4,\n",
        "    collate_fn=collate_fn\n",
        ")\n"
      ]
    },
    {
      "cell_type": "code",
      "execution_count": null,
      "metadata": {
        "colab": {
          "base_uri": "https://localhost:8080/"
        },
        "id": "FUvKnT3YCsB7",
        "outputId": "12870166-57e1-4f7d-df1a-ff1aa2a280bc"
      },
      "outputs": [
        {
          "name": "stdout",
          "output_type": "stream",
          "text": [
            "(100000, 26) (100000,)\n"
          ]
        }
      ],
      "source": [
        "# 2) Build a new dataset for the separate test data\n",
        "import pandas as pd\n",
        "data_norm_anom = pd.read_csv('/content/gdrive/MyDrive/DATASETS/TIME_SERIES_MULTI_V_DATA/SWAT_NORMALIZED.csv')\n",
        "data_norm_anom = data_norm_anom.dropna()\n",
        "\n",
        "data_test = data_norm_anom.iloc[100000:200000]\n",
        "test_features = data_test.iloc[:, :-1].values\n",
        "test_labels   = data_test.iloc[:,  -1].values\n",
        "print (test_features.shape, test_labels.shape)"
      ]
    },
    {
      "cell_type": "code",
      "execution_count": null,
      "metadata": {
        "id": "Ls3iG0MMC0vR"
      },
      "outputs": [],
      "source": [
        "# Define a simple dataset\n",
        "class SimpleTimeSeriesDataset(torch.utils.data.Dataset):\n",
        "    def __init__(self, features, labels, transform=None):\n",
        "        self.features = features\n",
        "        self.labels   = labels\n",
        "        self.transform= transform\n",
        "    def __len__(self):\n",
        "        return len(self.labels)\n",
        "    def __getitem__(self, idx):\n",
        "        x = self.features[idx]\n",
        "        y = self.labels[idx]\n",
        "        if self.transform:\n",
        "            x = self.transform(x)\n",
        "        return x, y\n",
        "\n",
        "test_dataset_all = SimpleTimeSeriesDataset(test_features, test_labels)"
      ]
    },
    {
      "cell_type": "code",
      "execution_count": null,
      "metadata": {
        "id": "v3zyapjZC0zA"
      },
      "outputs": [],
      "source": []
    },
    {
      "cell_type": "code",
      "execution_count": null,
      "metadata": {
        "colab": {
          "base_uri": "https://localhost:8080/"
        },
        "id": "nRj_TRdpC6n2",
        "outputId": "f4f8e326-1c6c-4487-8c5e-3d92645d048c"
      },
      "outputs": [
        {
          "name": "stderr",
          "output_type": "stream",
          "text": [
            "/usr/local/lib/python3.11/dist-packages/torch/utils/data/dataloader.py:617: UserWarning: This DataLoader will create 4 worker processes in total. Our suggested max number of worker in current system is 2, which is smaller than what this DataLoader is going to create. Please be aware that excessive worker creation might get DataLoader running slow or even freeze, lower the worker number to avoid potential slowness/freeze if necessary.\n",
            "  warnings.warn(\n"
          ]
        }
      ],
      "source": [
        "# 3) Split that dataset into val + test\n",
        "test_dataset_size = len(test_dataset_all)\n",
        "val_size = test_dataset_size #// 2\n",
        "val_indices = list(range(val_size))\n",
        "test_indices= list(range(val_size, test_dataset_size))\n",
        "\n",
        "val_subset  = torch.utils.data.Subset(test_dataset_all, val_indices)\n",
        "test_subset = torch.utils.data.Subset(test_dataset_all, test_indices)\n",
        "\n",
        "val_loader = DataLoader(\n",
        "    val_subset,\n",
        "    batch_size= batch_size,\n",
        "    shuffle=False,\n",
        "    num_workers=4\n",
        ")\n",
        "\n",
        "test_loader = DataLoader(\n",
        "    test_subset,\n",
        "    batch_size=batch_size,\n",
        "    shuffle=False,\n",
        "    num_workers=4\n",
        ")"
      ]
    },
    {
      "cell_type": "code",
      "execution_count": null,
      "metadata": {
        "id": "nOVuJYqgC6rQ"
      },
      "outputs": [],
      "source": []
    },
    {
      "cell_type": "code",
      "execution_count": null,
      "metadata": {
        "id": "ef8026EHKgWT"
      },
      "outputs": [],
      "source": []
    },
    {
      "cell_type": "code",
      "execution_count": null,
      "metadata": {
        "id": "C76R97uCGWEd"
      },
      "outputs": [],
      "source": [
        "device = torch.device('cuda' if torch.cuda.is_available() else 'cpu')\n",
        "input_dim = df_normal.shape[1]  # Number of features in the input data\n",
        "model_dim = 128\n",
        "num_heads = 8\n",
        "num_layers = 6\n",
        "dropout = 0.3\n",
        "\n",
        "model = AnomalyTransformer(input_dim=input_dim, model_dim=model_dim, num_heads=num_heads, num_layers=num_layers, dropout=dropout).to(device)\n",
        "optimizer = optim.Adam(model.parameters(), lr=1e-4)\n"
      ]
    },
    {
      "cell_type": "code",
      "execution_count": null,
      "metadata": {
        "id": "hR8Rher9q3u7"
      },
      "outputs": [],
      "source": []
    },
    {
      "cell_type": "markdown",
      "metadata": {
        "id": "fZwU47uWq4bL"
      },
      "source": [
        "**PLOTTING AND STATS**\n"
      ]
    },
    {
      "cell_type": "code",
      "execution_count": null,
      "metadata": {
        "id": "cTLF2VXNq_by"
      },
      "outputs": [],
      "source": []
    },
    {
      "cell_type": "code",
      "execution_count": null,
      "metadata": {
        "id": "2B9hGtHBr_Qf"
      },
      "outputs": [],
      "source": [
        "from sklearn.metrics import accuracy_score, precision_score, recall_score, f1_score, roc_auc_score\n",
        "import numpy as np\n",
        "import torch\n",
        "\n",
        "# Function to calculate F1_PA\n",
        "def calculate_f1_pa(labels, preds):\n",
        "    true_segments = []\n",
        "    pred_segments = []\n",
        "\n",
        "    # Get segments for true labels\n",
        "    i = 0\n",
        "    while i < len(labels):\n",
        "        if labels[i] == 1:\n",
        "            start = i\n",
        "            while i < len(labels) and labels[i] == 1:\n",
        "                i += 1\n",
        "            true_segments.append((start, i - 1))\n",
        "        i += 1\n",
        "\n",
        "    # Get segments for predictions\n",
        "    i = 0\n",
        "    while i < len(preds):\n",
        "        if preds[i] == 1:\n",
        "            start = i\n",
        "            while i < len(preds) and preds[i] == 1:\n",
        "                i += 1\n",
        "            pred_segments.append((start, i - 1))\n",
        "        i += 1\n",
        "\n",
        "    # Compute overlap\n",
        "    tp = 0\n",
        "    for t_start, t_end in true_segments:\n",
        "        for p_start, p_end in pred_segments:\n",
        "            if not (p_end < t_start or p_start > t_end):\n",
        "                tp += 1\n",
        "                break\n",
        "\n",
        "    precision_pa = tp / len(pred_segments) if len(pred_segments) > 0 else 0\n",
        "    recall_pa = tp / len(true_segments) if len(true_segments) > 0 else 0\n",
        "    f1_pa = 2 * precision_pa * recall_pa / (precision_pa + recall_pa) if precision_pa + recall_pa > 0 else 0\n",
        "\n",
        "    return f1_pa\n",
        "\n",
        "\n",
        "# Validation Function\n",
        "def validate(model, val_loader, device, threshold=None):\n",
        "    model.eval()\n",
        "    all_log_likelihoods = []\n",
        "    all_labels = []\n",
        "\n",
        "    with torch.no_grad():\n",
        "        for batch in val_loader:\n",
        "            # Check how many items are in the batch\n",
        "            if len(batch) == 5:\n",
        "                # The original multi-input scenario\n",
        "                padded_x1, padded_x2, labels, x1_mask, x2_mask = batch\n",
        "                padded_x1 = padded_x1.to(device, dtype=torch.float32)\n",
        "                padded_x2 = padded_x2.to(device, dtype=torch.float32)\n",
        "                labels = labels.to(device)\n",
        "                x1_mask = x1_mask.to(device)\n",
        "                x2_mask = x2_mask.to(device)\n",
        "\n",
        "                ll_gaussian, ll_vine = model(padded_x1, padded_x2, mask1=x1_mask, mask2=x2_mask)\n",
        "\n",
        "            if len(batch) == 3:\n",
        "                padded_x1, padded_x2, labels = batch\n",
        "                padded_x1 = padded_x1.to(device, dtype=torch.float32)\n",
        "                padded_x2 = padded_x2.to(device, dtype=torch.float32)\n",
        "                labels    = labels.to(device)\n",
        "\n",
        "                ll_gaussian, ll_vine = model(padded_x1, padded_x2)\n",
        "\n",
        "            elif len(batch) == 2:\n",
        "                features, labels = batch\n",
        "                features = features.to(device, dtype=torch.float32)\n",
        "                labels = labels.to(device)\n",
        "\n",
        "                # Unsqueeze so shape => (B, 1, num_features)\n",
        "                features = features.unsqueeze(1)\n",
        "\n",
        "                ll_gaussian, ll_vine = model(features, features)\n",
        "\n",
        "            else:\n",
        "                raise ValueError(f\"Unexpected number of items in batch: {len(batch)}\")\n",
        "\n",
        "            # Now we have (ll_gaussian, ll_vine) and 'labels'\n",
        "            # Select final LL:  normal => Gaussian, anomaly => Vine\n",
        "            ll_final = torch.where(labels == 0, ll_gaussian, ll_vine)\n",
        "\n",
        "            all_log_likelihoods.extend(ll_final.cpu().numpy())\n",
        "            all_labels.extend(labels.cpu().numpy())\n",
        "\n",
        "    # Convert to np.array\n",
        "    all_log_likelihoods = np.array(all_log_likelihoods)\n",
        "    all_labels = np.array(all_labels)\n",
        "\n",
        "    # If no threshold provided, find best by F1\n",
        "    if threshold is None:\n",
        "        best_f1 = 0.0\n",
        "        best_threshold = 0.0\n",
        "        mins, maxs = all_log_likelihoods.min(), all_log_likelihoods.max()\n",
        "        for thresh in np.linspace(mins, maxs, 100):\n",
        "            preds = (all_log_likelihoods < thresh).astype(int)\n",
        "            f1 = f1_score(all_labels, preds, zero_division=0)\n",
        "            if f1 > best_f1:\n",
        "                best_f1 = f1\n",
        "                best_threshold = thresh\n",
        "        threshold = best_threshold\n",
        "\n",
        "    # Generate final predictions using threshold\n",
        "    preds = (all_log_likelihoods < threshold).astype(int)\n",
        "\n",
        "    accuracy = accuracy_score(all_labels, preds)\n",
        "    precision = precision_score(all_labels, preds, zero_division=0)\n",
        "    recall = recall_score(all_labels, preds, zero_division=0)\n",
        "    auc_roc = roc_auc_score(all_labels, -all_log_likelihoods)  # negative => lower LL => anomaly\n",
        "\n",
        "    # Calculate F1_PA\n",
        "    f1_pa = calculate_f1_pa(all_labels, preds)\n",
        "\n",
        "    return {\n",
        "        'accuracy': accuracy,\n",
        "        'precision': precision,\n",
        "        'recall': recall,\n",
        "        'auc_roc': auc_roc,\n",
        "        'f1_pa': f1_pa,\n",
        "        'threshold': threshold\n",
        "    }\n"
      ]
    },
    {
      "cell_type": "markdown",
      "metadata": {
        "id": "Z937tz292aC4"
      },
      "source": []
    },
    {
      "cell_type": "code",
      "execution_count": null,
      "metadata": {
        "id": "W7X-6dCVD7fO"
      },
      "outputs": [],
      "source": [
        "def plot_log_likelihoods(model, loader, device, dataset_name=\"Dataset\"):\n",
        "    import numpy as np\n",
        "    import pandas as pd\n",
        "    import matplotlib.pyplot as plt\n",
        "    import seaborn as sns\n",
        "    from torch import no_grad\n",
        "\n",
        "    model.eval()\n",
        "    log_likelihoods = []\n",
        "    labels = []\n",
        "\n",
        "    normal_log_likelihoods = []\n",
        "    anomaly_log_likelihoods = []\n",
        "\n",
        "    with no_grad():\n",
        "        for batch in loader:\n",
        "            if len(batch) == 5:\n",
        "                # old approach: (padded_x1, padded_x2, batch_labels, x1_mask, x2_mask)\n",
        "                padded_x1, padded_x2, batch_labels, x1_mask, x2_mask = batch\n",
        "\n",
        "                padded_x1 = padded_x1.to(device)\n",
        "                padded_x2 = padded_x2.to(device)\n",
        "                batch_labels = batch_labels.to(device)\n",
        "                x1_mask = x1_mask.to(device)\n",
        "                x2_mask = x2_mask.to(device)\n",
        "\n",
        "                # model returns (ll_gaussian, ll_vine)\n",
        "                ll_gaussian, ll_vine = model(padded_x1, padded_x2, mask1=x1_mask, mask2=x2_mask)\n",
        "\n",
        "            elif len(batch) == 2:\n",
        "                # new approach: (features, labels)\n",
        "                features, batch_labels = batch\n",
        "                # shape => (batch_size, features) or (batch_size, seq_len, features)\n",
        "                features = features.to(device, dtype=torch.float32)\n",
        "                features = features.unsqueeze(1)  # => shape (B,1,features_dim)\n",
        "\n",
        "                batch_labels = batch_labels.to(device)\n",
        "\n",
        "                # If your model expects two inputs, we pass the same feature twice\n",
        "                ll_gaussian, ll_vine = model(features, features)\n",
        "            else:\n",
        "                raise ValueError(f\"Unexpected number of items in batch: {len(batch)}\")\n",
        "\n",
        "            # Now we have ll_gaussian, ll_vine, and batch_labels\n",
        "            # Normal => label=0 => use ll_gaussian\n",
        "            # Anomaly=> label=1 => use ll_vine\n",
        "            selected_ll = torch.where(batch_labels == 0, ll_gaussian, ll_vine)\n",
        "\n",
        "            # Convert to CPU/NumPy\n",
        "            selected_ll_np = selected_ll.cpu().numpy()\n",
        "            labels_np = batch_labels.cpu().numpy()\n",
        "\n",
        "            # Separate normal vs. anomaly for debugging\n",
        "            normal_mask = (labels_np == 0)\n",
        "            anomaly_mask= (labels_np == 1)\n",
        "\n",
        "            normal_ll  = selected_ll_np[normal_mask]\n",
        "            anomaly_ll = selected_ll_np[anomaly_mask]\n",
        "\n",
        "            if len(normal_ll) > 0:\n",
        "                normal_log_likelihoods.extend(normal_ll)\n",
        "            if len(anomaly_ll) > 0:\n",
        "                anomaly_log_likelihoods.extend(anomaly_ll)\n",
        "\n",
        "            log_likelihoods.extend(selected_ll_np)\n",
        "            labels.extend(labels_np)\n",
        "\n",
        "    log_likelihoods = np.array(log_likelihoods)\n",
        "    labels = np.array(labels)\n",
        "\n",
        "    # Build a DataFrame for plotting\n",
        "    import pandas as pd\n",
        "    df = pd.DataFrame({\n",
        "        'Log-Likelihood': log_likelihoods,\n",
        "        'Label': ['Anomaly' if lb == 1 else 'Normal' for lb in labels]\n",
        "    })\n",
        "\n",
        "    # Summary stats\n",
        "    if len(normal_log_likelihoods) > 0:\n",
        "        mean_normal = np.mean(normal_log_likelihoods)\n",
        "    else:\n",
        "        mean_normal = float('nan')\n",
        "\n",
        "    if len(anomaly_log_likelihoods) > 0:\n",
        "        mean_anomaly = np.mean(anomaly_log_likelihoods)\n",
        "    else:\n",
        "        mean_anomaly = float('nan')\n",
        "\n",
        "    print(f\"[{dataset_name}] Mean Normal Log-Likelihood: {mean_normal:.4f}\")\n",
        "    print(f\"[{dataset_name}] Mean Anomaly Log-Likelihood: {mean_anomaly:.4f}\")\n",
        "\n",
        "    # Plot distributions via Seaborn\n",
        "    plt.figure(figsize=(10, 6))\n",
        "    sns.kdeplot(data=df, x='Log-Likelihood', hue='Label', fill=True, common_norm=False, alpha=0.5)\n",
        "    plt.title(f'Log-Likelihood Distribution for {dataset_name} Set')\n",
        "    plt.show()\n"
      ]
    },
    {
      "cell_type": "code",
      "execution_count": null,
      "metadata": {
        "colab": {
          "background_save": true
        },
        "id": "HmRolkPqZB4i"
      },
      "outputs": [],
      "source": [
        "from sklearn.metrics import precision_score, recall_score, f1_score\n",
        "from sklearn.metrics import precision_recall_curve, f1_score\n",
        "from torch.optim.lr_scheduler import ReduceLROnPlateau\n",
        "\n",
        "\n",
        "num_epochs = 35\n",
        "epoch_losses = []\n",
        "val_metrics_history = []\n",
        "\n",
        "\n",
        "epoch_losses = []\n",
        "\n",
        "\n",
        "# Define scheduler\n",
        "scheduler = ReduceLROnPlateau(optimizer, mode='max', factor=0.5, patience=5, verbose=True)\n",
        "\n",
        "best_f1 = 0.0\n",
        "patience_counter = 0\n",
        "patience = 10  # Number of epochs to wait before stopping\n",
        "\n",
        "\n",
        "epoch_losses = []\n",
        "best_f1 = 0.0\n",
        "patience_counter = 0\n",
        "patience = 10\n",
        "\n",
        "auc_roc_values = []  # <-- Added to store AUC-ROC values for each epoch\n",
        "f_1_scores = []\n",
        "accuracy_values = []\n",
        "precision_values = []\n",
        "recall_values = []\n",
        "\n",
        "try:\n",
        "    for epoch in range(num_epochs):\n",
        "        model.train()\n",
        "        running_loss = 0.0\n",
        "\n",
        "        for batch_idx, (padded_x1, padded_x2, labels, x1_mask, x2_mask) in enumerate(train_loader):\n",
        "            padded_x1 = padded_x1.to(device)\n",
        "            padded_x2 = padded_x2.to(device)\n",
        "            labels = labels.to(device)\n",
        "            x1_mask = x1_mask.to(device)\n",
        "            x2_mask = x2_mask.to(device)\n",
        "\n",
        "            optimizer.zero_grad()\n",
        "            #log_likelihood = model(padded_x1, padded_x2, mask1=x1_mask, mask2=x2_mask)\n",
        "            #loss = contrastive_loss(log_likelihood, labels, alpha=0.5, base_margin=10.0)\n",
        "\n",
        "            ll_gaussian, ll_vine = model(padded_x1, padded_x2, mask1=x1_mask, mask2=x2_mask)\n",
        "            loss = contrastive_loss(ll_gaussian, ll_vine, labels, alpha=0.5, base_margin=500.0)\n",
        "            loss.backward()\n",
        "            optimizer.step()\n",
        "            running_loss += loss.item()\n",
        "\n",
        "        avg_loss = running_loss / len(train_loader)\n",
        "        epoch_losses.append(avg_loss)\n",
        "        print(f'Epoch {epoch + 1}/{num_epochs}, Loss: {avg_loss:.4f}')\n",
        "\n",
        "        # Validation every few epochs\n",
        "        if epoch % 2 == 0:\n",
        "            val_metrics = validate(model, val_loader, device)\n",
        "            print(f\"Validation Metrics @ Epoch {epoch}: {val_metrics}\")\n",
        "\n",
        "\n",
        "         # Store AUC-ROC value for this epoch\n",
        "        auc_roc_values.append(val_metrics['auc_roc'])  # <-- Added this line\n",
        "        #f_1_scores.append(val_metrics['f1_point'])\n",
        "        accuracy_values.append(val_metrics['accuracy'])\n",
        "        precision_values.append(val_metrics['precision'])\n",
        "        recall_values.append(val_metrics['recall'])\n",
        "\n",
        "        # Update the learning rate scheduler\n",
        "        #scheduler.step(val_metrics['f1_point'])\n",
        "\n",
        "except KeyboardInterrupt:\n",
        "    print(\"Training interrupted. Saving model...\")\n",
        "\n",
        "# After training, evaluate before re-loading state\n",
        "print(\"\\n--- Evaluating on Training Set (Final) ---\")\n",
        "plot_log_likelihoods(model, train_loader, device, dataset_name=\"Training\")\n",
        "\n",
        "print(\"\\n--- Evaluating on Validation Set (Final) ---\")\n",
        "plot_log_likelihoods(model, val_loader, device, dataset_name=\"Validation\")\n",
        "\n",
        "# Save the model\n",
        "torch.save(model.state_dict(), 'model_gp_copula_likelihood_loss_margin_500_real_anomaly_30_percent_alpha_05_batch_128_emb_128.pth')\n",
        "\n",
        "# Reload model with strict=True\n",
        "model_loaded = AnomalyTransformer(input_dim=input_dim, model_dim=model_dim, num_heads=num_heads, num_layers=num_layers, dropout=dropout).to(device)\n",
        "model_loaded.load_state_dict(torch.load('model_gp_copula_likelihood_loss_margin_500_real_anomaly_30_percent_alpha_05_batch_128_emb_128.pth'), strict=True)\n",
        "model_loaded.eval()\n",
        "\n",
        "# Check again after reloading\n",
        "print(\"\\n--- Evaluating Reloaded Model on Training Set ---\")\n",
        "plot_log_likelihoods(model_loaded, train_loader, device, dataset_name=\"Training Reloaded\")\n",
        "\n",
        "print(\"\\n--- Evaluating Reloaded Model on Validation Set ---\")\n",
        "plot_log_likelihoods(model_loaded, val_loader, device, dataset_name=\"Validation Reloaded\")\n",
        "\n",
        "print(\"AUC-ROC Values for Each Epoch:\")\n",
        "print(auc_roc_values)\n",
        "print(\"F1 Scores for Each Epoch:\")\n",
        "print(f_1_scores)\n",
        "print(\"Accuracy Values for Each Epoch:\")\n",
        "print(accuracy_values)\n",
        "\n",
        "print(\"Precision Values for Each Epoch:\")\n",
        "print(precision_values)\n",
        "print(\"Recall Values for Each Epoch:\")\n",
        "print(recall_values)\n",
        "\n",
        "# Plot training loss\n",
        "plt.figure(figsize=(8, 6))\n",
        "plt.plot(range(1, num_epochs + 1), epoch_losses, marker='o', linestyle='-')\n",
        "plt.title('Training Loss over Epochs')\n",
        "plt.xlabel('Epoch')\n",
        "plt.ylabel\n"
      ]
    },
    {
      "cell_type": "code",
      "execution_count": null,
      "metadata": {
        "colab": {
          "base_uri": "https://localhost:8080/",
          "height": 607
        },
        "id": "YukJnB8D0qw-",
        "outputId": "f00fe55e-1b5e-49c2-ea21-0f8fe631a4be"
      },
      "outputs": [
        {
          "data": {
            "image/png": "[encoded data removed]",
            "text/plain": [
              "<Figure size 1000x600 with 1 Axes>"
            ]
          },
          "metadata": {},
          "output_type": "display_data"
        }
      ],
      "source": [
        "import matplotlib.pyplot as plt\n",
        "import numpy as np\n",
        "\n",
        "# Example data for precision, recall, and AUC-ROC (replace these with your actual values)\n",
        "epochs = np.arange(1, 36)\n",
        "\n",
        "# Plot the metrics\n",
        "plt.figure(figsize=(10, 6))\n",
        "plt.plot(epochs, precision_values, label='Precision', color='blue', marker='o', markersize=3, linestyle='-')\n",
        "plt.plot(epochs, recall_values, label='Recall', color='green', marker='s', markersize=3, linestyle='--')\n",
        "plt.plot(epochs, auc_roc_values, label='AUC-ROC', color='red', marker='^', markersize=3, linestyle='-.')\n",
        "\n",
        "# Add titles and labels\n",
        "#plt.title('Performance Metrics Over Epochs', fontsize=14)\n",
        "plt.xlabel('Epochs', fontsize=18)\n",
        "plt.ylabel('Metric Values', fontsize=18)\n",
        "plt.xticks(fontsize=16)\n",
        "plt.yticks(fontsize=16)\n",
        "plt.grid(alpha=0.3)\n",
        "\n",
        "# Add a legend\n",
        "plt.legend(fontsize=12)\n",
        "\n",
        "# Show the plot\n",
        "plt.tight_layout()\n",
        "plt.show()\n"
      ]
    },
    {
      "cell_type": "code",
      "execution_count": null,
      "metadata": {
        "id": "ey7AbJAyXBkO"
      },
      "outputs": [],
      "source": []
    },
    {
      "cell_type": "code",
      "execution_count": null,
      "metadata": {
        "colab": {
          "background_save": true
        },
        "id": "3PsgULBwIF1N",
        "outputId": "47350daf-1159-4f05-f9a4-c98701ae21b4"
      },
      "outputs": [
        {
          "name": "stderr",
          "output_type": "stream",
          "text": [
            "<ipython-input-45-6ae890472c99>:2: FutureWarning: You are using `torch.load` with `weights_only=False` (the current default value), which uses the default pickle module implicitly. It is possible to construct malicious pickle data which will execute arbitrary code during unpickling (See https://github.com/pytorch/pytorch/blob/main/SECURITY.md#untrusted-models for more details). In a future release, the default value for `weights_only` will be flipped to `True`. This limits the functions that could be executed during unpickling. Arbitrary objects will no longer be allowed to be loaded via this mode unless they are explicitly allowlisted by the user via `torch.serialization.add_safe_globals`. We recommend you start setting `weights_only=True` for any use case where you don't have full control of the loaded file. Please open an issue on GitHub for any issues related to this experimental feature.\n",
            "  model.load_state_dict(torch.load('model_gp_copula_likelihood_loss_margin_500_real_anomaly_30_percent_alpha_05_batch_128_emb_128.pth'), strict=False)\n"
          ]
        },
        {
          "data": {
            "text/plain": [
              "<All keys matched successfully>"
            ]
          },
          "execution_count": 45,
          "metadata": {},
          "output_type": "execute_result"
        }
      ],
      "source": [
        "# Load the saved state_dict, ignoring missing keys\n",
        "model.load_state_dict(torch.load('model_gp_copula_likelihood_loss_margin_500_real_anomaly_30_percent_alpha_05_batch_128_emb_128.pth'), strict=False)"
      ]
    },
    {
      "cell_type": "code",
      "execution_count": null,
      "metadata": {
        "colab": {
          "base_uri": "https://localhost:8080/",
          "height": 653
        },
        "collapsed": true,
        "id": "hEQr7QAQEUCL",
        "outputId": "174c4c36-68be-429d-edb1-2b93eeb9cea8"
      },
      "outputs": [
        {
          "name": "stderr",
          "output_type": "stream",
          "text": [
            "/usr/local/lib/python3.11/dist-packages/torch/utils/data/dataloader.py:617: UserWarning: This DataLoader will create 4 worker processes in total. Our suggested max number of worker in current system is 2, which is smaller than what this DataLoader is going to create. Please be aware that excessive worker creation might get DataLoader running slow or even freeze, lower the worker number to avoid potential slowness/freeze if necessary.\n",
            "  warnings.warn(\n"
          ]
        },
        {
          "name": "stdout",
          "output_type": "stream",
          "text": [
            "[Training] Mean Normal Log-Likelihood: -42.6980\n",
            "[Training] Mean Anomaly Log-Likelihood: -4862.3848\n"
          ]
        },
        {
          "data": {
            "image/png": "[encoded data removed]",
            "text/plain": [
              "<Figure size 1000x600 with 1 Axes>"
            ]
          },
          "metadata": {},
          "output_type": "display_data"
        }
      ],
      "source": [
        "# Plot for Training Set\n",
        "plot_log_likelihoods(model, train_loader, device, dataset_name=\"Training\")\n",
        "\n",
        "# Plot for Validation Set\n",
        "#plot_log_likelihoods(model, val_loader, device, dataset_name=\"Validation\")\n"
      ]
    },
    {
      "cell_type": "code",
      "execution_count": null,
      "metadata": {
        "colab": {
          "base_uri": "https://localhost:8080/",
          "height": 653
        },
        "collapsed": true,
        "id": "ipjKzrSDJCzu",
        "outputId": "f39efcaf-36c2-442b-de24-5c58e2054db7"
      },
      "outputs": [
        {
          "name": "stderr",
          "output_type": "stream",
          "text": [
            "/usr/local/lib/python3.11/dist-packages/torch/utils/data/dataloader.py:617: UserWarning: This DataLoader will create 4 worker processes in total. Our suggested max number of worker in current system is 2, which is smaller than what this DataLoader is going to create. Please be aware that excessive worker creation might get DataLoader running slow or even freeze, lower the worker number to avoid potential slowness/freeze if necessary.\n",
            "  warnings.warn(\n"
          ]
        },
        {
          "name": "stdout",
          "output_type": "stream",
          "text": [
            "[Validation] Mean Normal Log-Likelihood: -77117.7266\n",
            "[Validation] Mean Anomaly Log-Likelihood: -1812141.0000\n"
          ]
        },
        {
          "data": {
            "image/png": "[encoded data removed]",
            "text/plain": [
              "<Figure size 1000x600 with 1 Axes>"
            ]
          },
          "metadata": {},
          "output_type": "display_data"
        }
      ],
      "source": [
        "# Plot for Validation Set\n",
        "plot_log_likelihoods(model, val_loader, device, dataset_name=\"Validation\")"
      ]
    },
    {
      "cell_type": "code",
      "execution_count": null,
      "metadata": {
        "colab": {
          "base_uri": "https://localhost:8080/",
          "height": 653
        },
        "collapsed": true,
        "id": "5HuImnxzHXXu",
        "outputId": "5294bb81-9ac0-40d1-9eb1-71816eac6d3d"
      },
      "outputs": [
        {
          "name": "stderr",
          "output_type": "stream",
          "text": [
            "/usr/local/lib/python3.11/dist-packages/torch/utils/data/dataloader.py:617: UserWarning: This DataLoader will create 4 worker processes in total. Our suggested max number of worker in current system is 2, which is smaller than what this DataLoader is going to create. Please be aware that excessive worker creation might get DataLoader running slow or even freeze, lower the worker number to avoid potential slowness/freeze if necessary.\n",
            "  warnings.warn(\n"
          ]
        },
        {
          "name": "stdout",
          "output_type": "stream",
          "text": [
            "[Test] Mean Normal Log-Likelihood: -169.9399\n",
            "[Test] Mean Anomaly Log-Likelihood: -819.9731\n"
          ]
        },
        {
          "data": {
            "image/png": "[encoded data removed]",
            "text/plain": [
              "<Figure size 1000x600 with 1 Axes>"
            ]
          },
          "metadata": {},
          "output_type": "display_data"
        }
      ],
      "source": [
        "# Plot for Validation Set\n",
        "plot_log_likelihoods(model, test_loader, device, dataset_name=\"Test\")"
      ]
    },
    {
      "cell_type": "code",
      "execution_count": null,
      "metadata": {
        "colab": {
          "background_save": true
        },
        "id": "KsZUvm02Z-CC"
      },
      "outputs": [],
      "source": [
        "from sklearn.manifold import TSNE\n",
        "import seaborn as sns\n",
        "\n",
        "def visualize_latent_space(model, loader, device, dataset_name=\"Dataset\"):\n",
        "    \"\"\"\n",
        "    This function visualizes the latent space by extracting embeddings from the model\n",
        "    for each batch in 'loader'. We'll handle 3 batch-size scenarios:\n",
        "      1) 5 items: (x1, x2, labels, x1_mask, x2_mask)\n",
        "      2) 3 items: (x1, x2, labels)\n",
        "      3) 2 items: (features, labels)\n",
        "    We'll assume the model has a method 'get_embeddings(x1, x2, mask1, mask2)'\n",
        "    that returns an embedding (e.g. shape (batch_size, embed_dim)).\n",
        "    \"\"\"\n",
        "\n",
        "    import numpy as np\n",
        "    import matplotlib.pyplot as plt\n",
        "    import seaborn as sns\n",
        "    import torch\n",
        "\n",
        "    model.eval()\n",
        "\n",
        "    all_embeddings = []\n",
        "    all_labels     = []\n",
        "\n",
        "    with torch.no_grad():\n",
        "        for batch in loader:\n",
        "            if len(batch) == 5:\n",
        "                # (padded_x1, padded_x2, batch_labels, x1_mask, x2_mask)\n",
        "                padded_x1, padded_x2, batch_labels, x1_mask, x2_mask = batch\n",
        "\n",
        "                padded_x1 = padded_x1.to(device, dtype=torch.float32)\n",
        "                padded_x2 = padded_x2.to(device, dtype=torch.float32)\n",
        "                batch_labels = batch_labels.to(device)\n",
        "                x1_mask = x1_mask.to(device)\n",
        "                x2_mask = x2_mask.to(device)\n",
        "\n",
        "                # We'll call some method get_embeddings() if your model has it\n",
        "                embeddings = model.get_embeddings(padded_x1, padded_x2, mask1=x1_mask, mask2=x2_mask)\n",
        "\n",
        "            elif len(batch) == 3:\n",
        "                # (padded_x1, padded_x2, batch_labels)\n",
        "                padded_x1, padded_x2, batch_labels = batch\n",
        "\n",
        "                padded_x1 = padded_x1.to(device, dtype=torch.float32)\n",
        "                padded_x2 = padded_x2.to(device, dtype=torch.float32)\n",
        "                batch_labels= batch_labels.to(device)\n",
        "\n",
        "                embeddings = model.get_embeddings(padded_x1, padded_x2)\n",
        "\n",
        "            elif len(batch) == 2:\n",
        "                # (features, labels)\n",
        "                features, batch_labels = batch\n",
        "\n",
        "                features = features.to(device, dtype=torch.float32)\n",
        "                batch_labels= batch_labels.to(device)\n",
        "\n",
        "                # If model expects two inputs, pass features twice\n",
        "                # or adapt if your model uses a single input in get_embeddings\n",
        "                embeddings = model.get_embeddings(features, features)\n",
        "\n",
        "            else:\n",
        "                raise ValueError(f\"Unexpected number of items in batch: {len(batch)}\")\n",
        "\n",
        "            # Convert embeddings + labels to CPU\n",
        "            emb_np = embeddings.cpu().numpy()\n",
        "            lbl_np = batch_labels.cpu().numpy()\n",
        "\n",
        "            all_embeddings.append(emb_np)\n",
        "            all_labels.append(lbl_np)\n",
        "\n",
        "    # Concat all\n",
        "    all_embeddings = np.concatenate(all_embeddings, axis=0)  # shape (total_samples, embed_dim)\n",
        "    all_labels     = np.concatenate(all_labels,     axis=0)  # shape (total_samples,)\n",
        "\n",
        "    # Suppose we do a 2D visualization via e.g. TSNE\n",
        "    from sklearn.manifold import TSNE\n",
        "    tsne = TSNE(n_components=2, random_state=0)\n",
        "    emb_2d = tsne.fit_transform(all_embeddings)\n",
        "\n",
        "    # Plot\n",
        "    plt.figure(figsize=(8,6))\n",
        "    # separate normal vs anomaly for coloring\n",
        "    normal_mask  = (all_labels == 0)\n",
        "    anomaly_mask = (all_labels == 1)\n",
        "\n",
        "    plt.scatter(emb_2d[normal_mask,0],  emb_2d[normal_mask,1],  c='blue',  alpha=0.5, label='Normal')\n",
        "    plt.scatter(emb_2d[anomaly_mask,0], emb_2d[anomaly_mask,1], c='red',   alpha=0.5, label='Anomaly')\n",
        "\n",
        "    plt.title(f\"Latent Space Visualization - {dataset_name}\")\n",
        "    plt.legend()\n",
        "    plt.show()\n"
      ]
    },
    {
      "cell_type": "code",
      "execution_count": null,
      "metadata": {
        "id": "CgeSHYbfFz36",
        "collapsed": true
      },
      "outputs": [],
      "source": [
        "# Visualize the latent space for the training set\n",
        "#visualize_latent_space(model, train_loader, device, dataset_name=\"Train\")\n",
        "\n",
        "# Visualize the latent space for the test set\n",
        "visualize_latent_space(model, val_loader, device, dataset_name=\"Validation\")\n"
      ]
    }
  ],
  "metadata": {
    "colab": {
      "provenance": []
    },
    "kernelspec": {
      "display_name": "Python 3",
      "name": "python3"
    },
    "language_info": {
      "name": "python"
    }
  },
  "nbformat": 4,
  "nbformat_minor": 0
}